{
 "cells": [
  {
   "cell_type": "code",
   "execution_count": 1,
   "metadata": {},
   "outputs": [
    {
     "name": "stdout",
     "output_type": "stream",
     "text": [
      "Requirement already satisfied: drawbot-skia in c:\\users\\user\\appdata\\local\\programs\\python\\python311\\lib\\site-packages (0.5.0)\n",
      "Requirement already satisfied: skia-python in c:\\users\\user\\appdata\\local\\programs\\python\\python311\\lib\\site-packages (from drawbot-skia) (87.5)\n",
      "Requirement already satisfied: fonttools[unicode] in c:\\users\\user\\appdata\\local\\programs\\python\\python311\\lib\\site-packages (from drawbot-skia) (4.45.1)\n",
      "Requirement already satisfied: numpy in c:\\users\\user\\appdata\\local\\programs\\python\\python311\\lib\\site-packages (from drawbot-skia) (1.26.2)\n",
      "Requirement already satisfied: uharfbuzz in c:\\users\\user\\appdata\\local\\programs\\python\\python311\\lib\\site-packages (from drawbot-skia) (0.37.3)\n",
      "Requirement already satisfied: python-bidi in c:\\users\\user\\appdata\\local\\programs\\python\\python311\\lib\\site-packages (from drawbot-skia) (0.4.2)\n",
      "Requirement already satisfied: unicodedata2 in c:\\users\\user\\appdata\\local\\programs\\python\\python311\\lib\\site-packages (from drawbot-skia) (15.1.0)\n",
      "Requirement already satisfied: blackrenderer in c:\\users\\user\\appdata\\local\\programs\\python\\python311\\lib\\site-packages (from drawbot-skia) (0.6.0)\n",
      "Requirement already satisfied: six in c:\\users\\user\\appdata\\roaming\\python\\python311\\site-packages (from python-bidi->drawbot-skia) (1.16.0)\n",
      "Requirement already satisfied: pybind11>=2.6 in c:\\users\\user\\appdata\\local\\programs\\python\\python311\\lib\\site-packages (from skia-python->drawbot-skia) (2.11.1)\n",
      "Note: you may need to restart the kernel to use updated packages.\n"
     ]
    },
    {
     "name": "stderr",
     "output_type": "stream",
     "text": [
      "\n",
      "[notice] A new release of pip is available: 23.2.1 -> 23.3.1\n",
      "[notice] To update, run: python.exe -m pip install --upgrade pip\n"
     ]
    }
   ],
   "source": [
    "pip install drawbot-skia"
   ]
  },
  {
   "cell_type": "code",
   "execution_count": 2,
   "metadata": {},
   "outputs": [],
   "source": [
    "from drawbot_skia.drawbot import *"
   ]
  },
  {
   "cell_type": "markdown",
   "metadata": {},
   "source": [
    "# задание 1"
   ]
  },
  {
   "cell_type": "code",
   "execution_count": 3,
   "metadata": {},
   "outputs": [],
   "source": [
    "newDrawing()\n",
    "\n",
    "x = 50\n",
    "step = 150\n",
    "for i in range(5):\n",
    "    fill(0.5, 0.7, 1.0)\n",
    "    oval(x, 100, 120, 120)\n",
    "    x += step\n",
    "saveImage(\"ovals1.pdf\")"
   ]
  },
  {
   "cell_type": "markdown",
   "metadata": {},
   "source": [
    "# задание 2"
   ]
  },
  {
   "cell_type": "code",
   "execution_count": 4,
   "metadata": {},
   "outputs": [],
   "source": [
    "newDrawing()\n",
    "\n",
    "x = 50\n",
    "y = 50\n",
    "step = 150\n",
    "\n",
    "for i in range(6):\n",
    "    for j in range(6):\n",
    "        fill(0.5, 0.7, 1.0)\n",
    "        oval(x, y, 120, 120)\n",
    "        y += step\n",
    "    y = 50 # чтобы новый ряд кружочков начинался с той же точки по оси y\n",
    "    x += step # и правее на значение шага по оси x\n",
    "\n",
    "saveImage(\"fill.pdf\")"
   ]
  },
  {
   "cell_type": "markdown",
   "metadata": {},
   "source": [
    "# задание 3\n"
   ]
  },
  {
   "cell_type": "code",
   "execution_count": 5,
   "metadata": {},
   "outputs": [],
   "source": [
    "# немного усложненная версия предыдущего задания\n",
    "\n",
    "newDrawing()\n",
    "\n",
    "size(500, 500)\n",
    "\n",
    "def circle_pattern(x, y, size):\n",
    "    with savedState():\n",
    "        translate(x, y)\n",
    "        fill(random(), random(), random(), 0.7)\n",
    "        oval(0, 0, size, size)\n",
    "\n",
    "rows = 5\n",
    "cols = 5\n",
    "pattern_size = 80\n",
    "margin = 20\n",
    "\n",
    "for row in range(rows):\n",
    "    for col in range(cols):\n",
    "        x = col * (pattern_size + margin)\n",
    "        y = row * (pattern_size + margin)\n",
    "        \n",
    "        circle_pattern(x, y, pattern_size)\n",
    "\n",
    "saveImage(\"pattern.pdf\")"
   ]
  },
  {
   "cell_type": "code",
   "execution_count": 6,
   "metadata": {},
   "outputs": [],
   "source": [
    "# простенький пейзаж\n",
    "\n",
    "newDrawing()\n",
    "\n",
    "# пусть в этот раз холст будет прямоугольный\n",
    "size(500, 300)\n",
    "\n",
    "# рисуем небо\n",
    "fill(0.6, 0.8, 1)  # голубой\n",
    "rect(0, 0, width(), height())\n",
    "\n",
    "# рисуем солнце\n",
    "fill(1, 1, 0)  # желтый\n",
    "oval(450, 250, 50, 50)\n",
    "\n",
    "# рисуем траву\n",
    "fill(0.5, 0.8, 0.5)  # зеленый\n",
    "rect(0, 0, width(), 200)\n",
    "\n",
    "# рисуем дом\n",
    "fill(0.6, 0.4, 0.8)  # фиолетовый\n",
    "rect(200, 50, 100, 100)\n",
    "\n",
    "# рисуем крышу\n",
    "fill(1, 0, 0)  # красный\n",
    "roof_height = 50\n",
    "roof_left = (200, 100 + roof_height)\n",
    "roof_right = (300, 100 + roof_height)\n",
    "roof_peak = (250, 150 + roof_height * 2)\n",
    "polygon(roof_left, roof_right, roof_peak)\n",
    "\n",
    "saveImage(\"simple_scene.pdf\")"
   ]
  }
 ],
 "metadata": {
  "kernelspec": {
   "display_name": "Python 3",
   "language": "python",
   "name": "python3"
  },
  "language_info": {
   "codemirror_mode": {
    "name": "ipython",
    "version": 3
   },
   "file_extension": ".py",
   "mimetype": "text/x-python",
   "name": "python",
   "nbconvert_exporter": "python",
   "pygments_lexer": "ipython3",
   "version": "3.11.6"
  }
 },
 "nbformat": 4,
 "nbformat_minor": 2
}
